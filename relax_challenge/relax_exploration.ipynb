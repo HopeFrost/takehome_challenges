{
 "cells": [
  {
   "cell_type": "markdown",
   "id": "dc14df40",
   "metadata": {},
   "source": [
    "# Relax Take Home Challenge \n",
    "\n",
    "\n"
   ]
  },
  {
   "cell_type": "code",
   "execution_count": 1,
   "id": "c7bd1439",
   "metadata": {},
   "outputs": [],
   "source": [
    "# import libraries\n",
    "import numpy as np\n",
    "import pandas as pd\n",
    "import matplotlib.pyplot as plt\n",
    "import seaborn as sns\n",
    "import datetime"
   ]
  },
  {
   "cell_type": "code",
   "execution_count": 2,
   "id": "34ba3179",
   "metadata": {},
   "outputs": [],
   "source": [
    "# import data\n",
    "users_df = pd.read_csv('data/takehome_users.csv')\n",
    "user_eng_df = pd.read_csv('data/takehome_user_engagement.csv')"
   ]
  },
  {
   "cell_type": "code",
   "execution_count": 3,
   "id": "308bfd8e",
   "metadata": {},
   "outputs": [
    {
     "data": {
      "text/html": [
       "<div>\n",
       "<style scoped>\n",
       "    .dataframe tbody tr th:only-of-type {\n",
       "        vertical-align: middle;\n",
       "    }\n",
       "\n",
       "    .dataframe tbody tr th {\n",
       "        vertical-align: top;\n",
       "    }\n",
       "\n",
       "    .dataframe thead th {\n",
       "        text-align: right;\n",
       "    }\n",
       "</style>\n",
       "<table border=\"1\" class=\"dataframe\">\n",
       "  <thead>\n",
       "    <tr style=\"text-align: right;\">\n",
       "      <th></th>\n",
       "      <th>object_id</th>\n",
       "      <th>creation_time</th>\n",
       "      <th>name</th>\n",
       "      <th>email</th>\n",
       "      <th>creation_source</th>\n",
       "      <th>last_session_creation_time</th>\n",
       "      <th>opted_in_to_mailing_list</th>\n",
       "      <th>enabled_for_marketing_drip</th>\n",
       "      <th>org_id</th>\n",
       "      <th>invited_by_user_id</th>\n",
       "    </tr>\n",
       "  </thead>\n",
       "  <tbody>\n",
       "    <tr>\n",
       "      <th>0</th>\n",
       "      <td>1</td>\n",
       "      <td>2014-04-22 03:53:30</td>\n",
       "      <td>Clausen August</td>\n",
       "      <td>AugustCClausen@yahoo.com</td>\n",
       "      <td>GUEST_INVITE</td>\n",
       "      <td>1.398139e+09</td>\n",
       "      <td>1</td>\n",
       "      <td>0</td>\n",
       "      <td>11</td>\n",
       "      <td>10803.0</td>\n",
       "    </tr>\n",
       "    <tr>\n",
       "      <th>1</th>\n",
       "      <td>2</td>\n",
       "      <td>2013-11-15 03:45:04</td>\n",
       "      <td>Poole Matthew</td>\n",
       "      <td>MatthewPoole@gustr.com</td>\n",
       "      <td>ORG_INVITE</td>\n",
       "      <td>1.396238e+09</td>\n",
       "      <td>0</td>\n",
       "      <td>0</td>\n",
       "      <td>1</td>\n",
       "      <td>316.0</td>\n",
       "    </tr>\n",
       "    <tr>\n",
       "      <th>2</th>\n",
       "      <td>3</td>\n",
       "      <td>2013-03-19 23:14:52</td>\n",
       "      <td>Bottrill Mitchell</td>\n",
       "      <td>MitchellBottrill@gustr.com</td>\n",
       "      <td>ORG_INVITE</td>\n",
       "      <td>1.363735e+09</td>\n",
       "      <td>0</td>\n",
       "      <td>0</td>\n",
       "      <td>94</td>\n",
       "      <td>1525.0</td>\n",
       "    </tr>\n",
       "    <tr>\n",
       "      <th>3</th>\n",
       "      <td>4</td>\n",
       "      <td>2013-05-21 08:09:28</td>\n",
       "      <td>Clausen Nicklas</td>\n",
       "      <td>NicklasSClausen@yahoo.com</td>\n",
       "      <td>GUEST_INVITE</td>\n",
       "      <td>1.369210e+09</td>\n",
       "      <td>0</td>\n",
       "      <td>0</td>\n",
       "      <td>1</td>\n",
       "      <td>5151.0</td>\n",
       "    </tr>\n",
       "    <tr>\n",
       "      <th>4</th>\n",
       "      <td>5</td>\n",
       "      <td>2013-01-17 10:14:20</td>\n",
       "      <td>Raw Grace</td>\n",
       "      <td>GraceRaw@yahoo.com</td>\n",
       "      <td>GUEST_INVITE</td>\n",
       "      <td>1.358850e+09</td>\n",
       "      <td>0</td>\n",
       "      <td>0</td>\n",
       "      <td>193</td>\n",
       "      <td>5240.0</td>\n",
       "    </tr>\n",
       "  </tbody>\n",
       "</table>\n",
       "</div>"
      ],
      "text/plain": [
       "   object_id        creation_time               name  \\\n",
       "0          1  2014-04-22 03:53:30     Clausen August   \n",
       "1          2  2013-11-15 03:45:04      Poole Matthew   \n",
       "2          3  2013-03-19 23:14:52  Bottrill Mitchell   \n",
       "3          4  2013-05-21 08:09:28    Clausen Nicklas   \n",
       "4          5  2013-01-17 10:14:20          Raw Grace   \n",
       "\n",
       "                        email creation_source  last_session_creation_time  \\\n",
       "0    AugustCClausen@yahoo.com    GUEST_INVITE                1.398139e+09   \n",
       "1      MatthewPoole@gustr.com      ORG_INVITE                1.396238e+09   \n",
       "2  MitchellBottrill@gustr.com      ORG_INVITE                1.363735e+09   \n",
       "3   NicklasSClausen@yahoo.com    GUEST_INVITE                1.369210e+09   \n",
       "4          GraceRaw@yahoo.com    GUEST_INVITE                1.358850e+09   \n",
       "\n",
       "   opted_in_to_mailing_list  enabled_for_marketing_drip  org_id  \\\n",
       "0                         1                           0      11   \n",
       "1                         0                           0       1   \n",
       "2                         0                           0      94   \n",
       "3                         0                           0       1   \n",
       "4                         0                           0     193   \n",
       "\n",
       "   invited_by_user_id  \n",
       "0             10803.0  \n",
       "1               316.0  \n",
       "2              1525.0  \n",
       "3              5151.0  \n",
       "4              5240.0  "
      ]
     },
     "execution_count": 3,
     "metadata": {},
     "output_type": "execute_result"
    }
   ],
   "source": [
    "users_df.head()"
   ]
  },
  {
   "cell_type": "code",
   "execution_count": 4,
   "id": "8186805b",
   "metadata": {},
   "outputs": [
    {
     "name": "stdout",
     "output_type": "stream",
     "text": [
      "<class 'pandas.core.frame.DataFrame'>\n",
      "RangeIndex: 12000 entries, 0 to 11999\n",
      "Data columns (total 10 columns):\n",
      " #   Column                      Non-Null Count  Dtype  \n",
      "---  ------                      --------------  -----  \n",
      " 0   object_id                   12000 non-null  int64  \n",
      " 1   creation_time               12000 non-null  object \n",
      " 2   name                        12000 non-null  object \n",
      " 3   email                       12000 non-null  object \n",
      " 4   creation_source             12000 non-null  object \n",
      " 5   last_session_creation_time  8823 non-null   float64\n",
      " 6   opted_in_to_mailing_list    12000 non-null  int64  \n",
      " 7   enabled_for_marketing_drip  12000 non-null  int64  \n",
      " 8   org_id                      12000 non-null  int64  \n",
      " 9   invited_by_user_id          6417 non-null   float64\n",
      "dtypes: float64(2), int64(4), object(4)\n",
      "memory usage: 937.6+ KB\n"
     ]
    }
   ],
   "source": [
    "# examin users_df data\n",
    "users_df.info()"
   ]
  },
  {
   "cell_type": "code",
   "execution_count": 5,
   "id": "132edb52",
   "metadata": {},
   "outputs": [
    {
     "data": {
      "text/html": [
       "<div>\n",
       "<style scoped>\n",
       "    .dataframe tbody tr th:only-of-type {\n",
       "        vertical-align: middle;\n",
       "    }\n",
       "\n",
       "    .dataframe tbody tr th {\n",
       "        vertical-align: top;\n",
       "    }\n",
       "\n",
       "    .dataframe thead th {\n",
       "        text-align: right;\n",
       "    }\n",
       "</style>\n",
       "<table border=\"1\" class=\"dataframe\">\n",
       "  <thead>\n",
       "    <tr style=\"text-align: right;\">\n",
       "      <th></th>\n",
       "      <th>time_stamp</th>\n",
       "      <th>user_id</th>\n",
       "      <th>visited</th>\n",
       "    </tr>\n",
       "  </thead>\n",
       "  <tbody>\n",
       "    <tr>\n",
       "      <th>0</th>\n",
       "      <td>2014-04-22 03:53:30</td>\n",
       "      <td>1</td>\n",
       "      <td>1</td>\n",
       "    </tr>\n",
       "    <tr>\n",
       "      <th>1</th>\n",
       "      <td>2013-11-15 03:45:04</td>\n",
       "      <td>2</td>\n",
       "      <td>1</td>\n",
       "    </tr>\n",
       "    <tr>\n",
       "      <th>2</th>\n",
       "      <td>2013-11-29 03:45:04</td>\n",
       "      <td>2</td>\n",
       "      <td>1</td>\n",
       "    </tr>\n",
       "    <tr>\n",
       "      <th>3</th>\n",
       "      <td>2013-12-09 03:45:04</td>\n",
       "      <td>2</td>\n",
       "      <td>1</td>\n",
       "    </tr>\n",
       "    <tr>\n",
       "      <th>4</th>\n",
       "      <td>2013-12-25 03:45:04</td>\n",
       "      <td>2</td>\n",
       "      <td>1</td>\n",
       "    </tr>\n",
       "  </tbody>\n",
       "</table>\n",
       "</div>"
      ],
      "text/plain": [
       "            time_stamp  user_id  visited\n",
       "0  2014-04-22 03:53:30        1        1\n",
       "1  2013-11-15 03:45:04        2        1\n",
       "2  2013-11-29 03:45:04        2        1\n",
       "3  2013-12-09 03:45:04        2        1\n",
       "4  2013-12-25 03:45:04        2        1"
      ]
     },
     "execution_count": 5,
     "metadata": {},
     "output_type": "execute_result"
    }
   ],
   "source": [
    "user_eng_df.head()"
   ]
  },
  {
   "cell_type": "code",
   "execution_count": 6,
   "id": "51afe086",
   "metadata": {},
   "outputs": [
    {
     "name": "stdout",
     "output_type": "stream",
     "text": [
      "<class 'pandas.core.frame.DataFrame'>\n",
      "RangeIndex: 207917 entries, 0 to 207916\n",
      "Data columns (total 3 columns):\n",
      " #   Column      Non-Null Count   Dtype \n",
      "---  ------      --------------   ----- \n",
      " 0   time_stamp  207917 non-null  object\n",
      " 1   user_id     207917 non-null  int64 \n",
      " 2   visited     207917 non-null  int64 \n",
      "dtypes: int64(2), object(1)\n",
      "memory usage: 4.8+ MB\n"
     ]
    }
   ],
   "source": [
    "# examin user_eng_df data\n",
    "user_eng_df.info()"
   ]
  },
  {
   "cell_type": "code",
   "execution_count": 7,
   "id": "b7e1c13d",
   "metadata": {},
   "outputs": [
    {
     "data": {
      "text/plain": [
       "object_id                        0\n",
       "creation_time                    0\n",
       "name                             0\n",
       "email                            0\n",
       "creation_source                  0\n",
       "last_session_creation_time    3177\n",
       "opted_in_to_mailing_list         0\n",
       "enabled_for_marketing_drip       0\n",
       "org_id                           0\n",
       "invited_by_user_id            5583\n",
       "dtype: int64"
      ]
     },
     "execution_count": 7,
     "metadata": {},
     "output_type": "execute_result"
    }
   ],
   "source": [
    "# check for missing \n",
    "users_df.isna().sum()"
   ]
  },
  {
   "cell_type": "code",
   "execution_count": 8,
   "id": "979635cc",
   "metadata": {},
   "outputs": [
    {
     "data": {
      "text/plain": [
       "time_stamp    0\n",
       "user_id       0\n",
       "visited       0\n",
       "dtype: int64"
      ]
     },
     "execution_count": 8,
     "metadata": {},
     "output_type": "execute_result"
    }
   ],
   "source": [
    "user_eng_df.isna().sum()"
   ]
  },
  {
   "cell_type": "code",
   "execution_count": 9,
   "id": "92f9c96e",
   "metadata": {},
   "outputs": [
    {
     "data": {
      "text/plain": [
       "0"
      ]
     },
     "execution_count": 9,
     "metadata": {},
     "output_type": "execute_result"
    }
   ],
   "source": [
    "users_df.duplicated().sum()"
   ]
  },
  {
   "cell_type": "code",
   "execution_count": 10,
   "id": "4439e274",
   "metadata": {},
   "outputs": [
    {
     "data": {
      "text/plain": [
       "0"
      ]
     },
     "execution_count": 10,
     "metadata": {},
     "output_type": "execute_result"
    }
   ],
   "source": [
    "user_eng_df.duplicated().sum()"
   ]
  },
  {
   "cell_type": "markdown",
   "id": "f8d0c73b",
   "metadata": {},
   "source": [
    "The users dataframe has two features with missing values. The engaged data has none and there are no duplicates in either data set.\n",
    "\n"
   ]
  },
  {
   "cell_type": "code",
   "execution_count": 11,
   "id": "bc688ece",
   "metadata": {},
   "outputs": [],
   "source": [
    "# fill missing values\n",
    "users_df.invited_by_user_id.fillna(0,inplace=True)\n"
   ]
  },
  {
   "cell_type": "code",
   "execution_count": 12,
   "id": "f0a2ce4a",
   "metadata": {},
   "outputs": [
    {
     "name": "stderr",
     "output_type": "stream",
     "text": [
      "<ipython-input-12-bf3bcda61cdb>:3: DeprecationWarning: elementwise comparison failed; this will raise an error in the future.\n",
      "  users_df.object_id[users_df.last_session_creation_time.isna()].unique() in user_eng_df.user_id.unique()\n"
     ]
    },
    {
     "data": {
      "text/plain": [
       "False"
      ]
     },
     "execution_count": 12,
     "metadata": {},
     "output_type": "execute_result"
    }
   ],
   "source": [
    "# missing values in last_session_creation_time ...\n",
    "# see if there are any logins for these users\n",
    "users_df.object_id[users_df.last_session_creation_time.isna()].unique() in user_eng_df.user_id.unique()\n"
   ]
  },
  {
   "cell_type": "markdown",
   "id": "296d940b",
   "metadata": {},
   "source": [
    "It would seem that out of 12000 users we have no logins for 3177. Either we have a mistake or 26.5% of users created accounts and never logged in. We'll be dropping this column anyway but its good to keep in mind. \n",
    "\n",
    "First we'll aggregate by day so we are not counting multiple logins in the same day. Then we'll group by 7 day periods.\n"
   ]
  },
  {
   "cell_type": "code",
   "execution_count": 13,
   "id": "b26af220",
   "metadata": {},
   "outputs": [
    {
     "data": {
      "text/plain": [
       "array([1])"
      ]
     },
     "execution_count": 13,
     "metadata": {},
     "output_type": "execute_result"
    }
   ],
   "source": [
    "# convert to datetime\n",
    "user_eng_df['time_stamp'] = pd.to_datetime(user_eng_df['time_stamp'])\n",
    "user_eng_df.visited.unique()"
   ]
  },
  {
   "cell_type": "code",
   "execution_count": 14,
   "id": "0ff8d822",
   "metadata": {},
   "outputs": [],
   "source": [
    "#group by day seting each day to min since all visites are 1 \n",
    "login_days = user_eng_df.set_index('time_stamp').groupby(['user_id', pd.Grouper( freq='1D')]).min()"
   ]
  },
  {
   "cell_type": "code",
   "execution_count": 15,
   "id": "0ac26d18",
   "metadata": {},
   "outputs": [],
   "source": [
    "#group sum of visits in 7 days\n",
    "login_days.reset_index(inplace=True)\n",
    "visits7day = login_days.set_index('time_stamp').groupby(['user_id', pd.Grouper( freq='7D')]).sum()"
   ]
  },
  {
   "cell_type": "code",
   "execution_count": 16,
   "id": "b5902bb7",
   "metadata": {},
   "outputs": [
    {
     "data": {
      "text/plain": [
       "array([1, 2, 3, 4, 5, 6, 7])"
      ]
     },
     "execution_count": 16,
     "metadata": {},
     "output_type": "execute_result"
    }
   ],
   "source": [
    "#reset index and check unique visits\n",
    "visits7day.reset_index(inplace=True)\n",
    "visits7day.visited.unique()"
   ]
  },
  {
   "cell_type": "markdown",
   "id": "3e2396e2",
   "metadata": {},
   "source": [
    "We'll add the adopted users feature to the users data as a binary feature with 1 indicating they have logged in 3 days in 7 days"
   ]
  },
  {
   "cell_type": "code",
   "execution_count": 17,
   "id": "9c199f03",
   "metadata": {},
   "outputs": [],
   "source": [
    "# add adopted user feature to users data as 0 for all then set the selected users to 1\n",
    "users_df['adopted_user'] = 0\n",
    "\n",
    "for user in visits7day.loc[ visits7day.visited >= 3]['user_id'].unique():\n",
    "    users_df.loc[users_df.object_id == user, 'adopted_user'] =1"
   ]
  },
  {
   "cell_type": "code",
   "execution_count": 18,
   "id": "83d6bb7c",
   "metadata": {
    "scrolled": true
   },
   "outputs": [
    {
     "name": "stdout",
     "output_type": "stream",
     "text": [
      "1445 users are considered adopted\n"
     ]
    }
   ],
   "source": [
    "print(users_df.adopted_user.sum(), 'users are considered adopted')"
   ]
  },
  {
   "cell_type": "markdown",
   "id": "e293a42a",
   "metadata": {},
   "source": [
    "That is 12% of accounts that are adopted.\n",
    "If we count at only the users we have login records for its 16.4%\n",
    "\n",
    "Before we drop unnessicary columns lets check them out a little further."
   ]
  },
  {
   "cell_type": "code",
   "execution_count": 19,
   "id": "f9706fbf",
   "metadata": {},
   "outputs": [
    {
     "data": {
      "text/plain": [
       "651"
      ]
     },
     "execution_count": 19,
     "metadata": {},
     "output_type": "execute_result"
    }
   ],
   "source": [
    "users_df.name.duplicated().sum()"
   ]
  },
  {
   "cell_type": "code",
   "execution_count": 20,
   "id": "71b0f38c",
   "metadata": {},
   "outputs": [
    {
     "data": {
      "text/plain": [
       "array(['JaninaSankt@gmail.com', 'AlfieLane@yahoo.com',\n",
       "       'KlausMueller@gustr.com', 'MaximilianWalter@gmail.com',\n",
       "       'JacobTye@gmail.com', 'MagnusSWinther@jourrapide.com',\n",
       "       'KristinKappel@yahoo.com', 'LaerkeMBertelsen@gmail.com',\n",
       "       'UlrikeGerste@gmail.com', 'MandySchroder@gustr.com',\n",
       "       'LasseLNrgaard@gmail.com', 'MarkoSeiler@yahoo.com',\n",
       "       'ThomasBrandt@gmail.com', 'MimirMKarlsen@jourrapide.com',\n",
       "       'AmandaABach@gmail.com', 'TomSchiffer@gmail.com',\n",
       "       'NicolaiSHolm@yahoo.com', 'KerstinNeudorf@gmail.com',\n",
       "       'PaigeWyatt@gmail.com', 'LeonieDuerr@gmail.com'], dtype=object)"
      ]
     },
     "execution_count": 20,
     "metadata": {},
     "output_type": "execute_result"
    }
   ],
   "source": [
    "users_df.email[users_df.email.duplicated()].unique()"
   ]
  },
  {
   "cell_type": "code",
   "execution_count": 21,
   "id": "5a81b739",
   "metadata": {
    "scrolled": true
   },
   "outputs": [
    {
     "data": {
      "text/html": [
       "<div>\n",
       "<style scoped>\n",
       "    .dataframe tbody tr th:only-of-type {\n",
       "        vertical-align: middle;\n",
       "    }\n",
       "\n",
       "    .dataframe tbody tr th {\n",
       "        vertical-align: top;\n",
       "    }\n",
       "\n",
       "    .dataframe thead th {\n",
       "        text-align: right;\n",
       "    }\n",
       "</style>\n",
       "<table border=\"1\" class=\"dataframe\">\n",
       "  <thead>\n",
       "    <tr style=\"text-align: right;\">\n",
       "      <th></th>\n",
       "      <th>object_id</th>\n",
       "      <th>creation_time</th>\n",
       "      <th>name</th>\n",
       "      <th>email</th>\n",
       "      <th>creation_source</th>\n",
       "      <th>last_session_creation_time</th>\n",
       "      <th>opted_in_to_mailing_list</th>\n",
       "      <th>enabled_for_marketing_drip</th>\n",
       "      <th>org_id</th>\n",
       "      <th>invited_by_user_id</th>\n",
       "      <th>adopted_user</th>\n",
       "    </tr>\n",
       "  </thead>\n",
       "  <tbody>\n",
       "    <tr>\n",
       "      <th>3605</th>\n",
       "      <td>3606</td>\n",
       "      <td>2013-05-10 08:31:59</td>\n",
       "      <td>Sankt Janina</td>\n",
       "      <td>JaninaSankt@gmail.com</td>\n",
       "      <td>GUEST_INVITE</td>\n",
       "      <td>1.369816e+09</td>\n",
       "      <td>0</td>\n",
       "      <td>0</td>\n",
       "      <td>84</td>\n",
       "      <td>8356.0</td>\n",
       "      <td>0</td>\n",
       "    </tr>\n",
       "    <tr>\n",
       "      <th>3822</th>\n",
       "      <td>3823</td>\n",
       "      <td>2012-11-22 05:51:29</td>\n",
       "      <td>Lane Alfie</td>\n",
       "      <td>AlfieLane@yahoo.com</td>\n",
       "      <td>ORG_INVITE</td>\n",
       "      <td>1.353650e+09</td>\n",
       "      <td>0</td>\n",
       "      <td>0</td>\n",
       "      <td>169</td>\n",
       "      <td>9498.0</td>\n",
       "      <td>0</td>\n",
       "    </tr>\n",
       "    <tr>\n",
       "      <th>4955</th>\n",
       "      <td>4956</td>\n",
       "      <td>2013-01-28 23:21:34</td>\n",
       "      <td>Mueller Klaus</td>\n",
       "      <td>KlausMueller@gustr.com</td>\n",
       "      <td>GUEST_INVITE</td>\n",
       "      <td>1.359415e+09</td>\n",
       "      <td>1</td>\n",
       "      <td>0</td>\n",
       "      <td>19</td>\n",
       "      <td>3225.0</td>\n",
       "      <td>0</td>\n",
       "    </tr>\n",
       "    <tr>\n",
       "      <th>5016</th>\n",
       "      <td>5017</td>\n",
       "      <td>2013-01-18 02:12:58</td>\n",
       "      <td>Walter Maximilian</td>\n",
       "      <td>MaximilianWalter@gmail.com</td>\n",
       "      <td>SIGNUP_GOOGLE_AUTH</td>\n",
       "      <td>1.358562e+09</td>\n",
       "      <td>1</td>\n",
       "      <td>1</td>\n",
       "      <td>402</td>\n",
       "      <td>0.0</td>\n",
       "      <td>0</td>\n",
       "    </tr>\n",
       "    <tr>\n",
       "      <th>5081</th>\n",
       "      <td>5082</td>\n",
       "      <td>2013-06-25 19:31:11</td>\n",
       "      <td>Tye Jacob</td>\n",
       "      <td>JacobTye@gmail.com</td>\n",
       "      <td>SIGNUP_GOOGLE_AUTH</td>\n",
       "      <td>1.372361e+09</td>\n",
       "      <td>0</td>\n",
       "      <td>0</td>\n",
       "      <td>298</td>\n",
       "      <td>0.0</td>\n",
       "      <td>0</td>\n",
       "    </tr>\n",
       "    <tr>\n",
       "      <th>6346</th>\n",
       "      <td>6347</td>\n",
       "      <td>2014-04-14 07:58:54</td>\n",
       "      <td>Winther Magnus</td>\n",
       "      <td>MagnusSWinther@jourrapide.com</td>\n",
       "      <td>SIGNUP</td>\n",
       "      <td>1.397549e+09</td>\n",
       "      <td>0</td>\n",
       "      <td>0</td>\n",
       "      <td>51</td>\n",
       "      <td>0.0</td>\n",
       "      <td>0</td>\n",
       "    </tr>\n",
       "    <tr>\n",
       "      <th>6432</th>\n",
       "      <td>6433</td>\n",
       "      <td>2014-05-09 10:31:42</td>\n",
       "      <td>Kappel Kristin</td>\n",
       "      <td>KristinKappel@yahoo.com</td>\n",
       "      <td>SIGNUP</td>\n",
       "      <td>1.399804e+09</td>\n",
       "      <td>1</td>\n",
       "      <td>1</td>\n",
       "      <td>202</td>\n",
       "      <td>0.0</td>\n",
       "      <td>0</td>\n",
       "    </tr>\n",
       "    <tr>\n",
       "      <th>6536</th>\n",
       "      <td>6537</td>\n",
       "      <td>2014-05-09 00:19:37</td>\n",
       "      <td>Bertelsen L�rke</td>\n",
       "      <td>LaerkeMBertelsen@gmail.com</td>\n",
       "      <td>PERSONAL_PROJECTS</td>\n",
       "      <td>NaN</td>\n",
       "      <td>1</td>\n",
       "      <td>1</td>\n",
       "      <td>127</td>\n",
       "      <td>0.0</td>\n",
       "      <td>0</td>\n",
       "    </tr>\n",
       "    <tr>\n",
       "      <th>6705</th>\n",
       "      <td>6706</td>\n",
       "      <td>2012-06-27 06:19:12</td>\n",
       "      <td>Gerste Ulrike</td>\n",
       "      <td>UlrikeGerste@gmail.com</td>\n",
       "      <td>SIGNUP_GOOGLE_AUTH</td>\n",
       "      <td>1.340778e+09</td>\n",
       "      <td>0</td>\n",
       "      <td>1</td>\n",
       "      <td>333</td>\n",
       "      <td>0.0</td>\n",
       "      <td>0</td>\n",
       "    </tr>\n",
       "    <tr>\n",
       "      <th>7159</th>\n",
       "      <td>7160</td>\n",
       "      <td>2012-11-15 03:13:19</td>\n",
       "      <td>Schr�der Mandy</td>\n",
       "      <td>MandySchroder@gustr.com</td>\n",
       "      <td>PERSONAL_PROJECTS</td>\n",
       "      <td>NaN</td>\n",
       "      <td>1</td>\n",
       "      <td>0</td>\n",
       "      <td>127</td>\n",
       "      <td>0.0</td>\n",
       "      <td>0</td>\n",
       "    </tr>\n",
       "    <tr>\n",
       "      <th>7257</th>\n",
       "      <td>7258</td>\n",
       "      <td>2013-05-14 20:04:00</td>\n",
       "      <td>N�rgaard Lasse</td>\n",
       "      <td>LasseLNrgaard@gmail.com</td>\n",
       "      <td>ORG_INVITE</td>\n",
       "      <td>NaN</td>\n",
       "      <td>0</td>\n",
       "      <td>0</td>\n",
       "      <td>35</td>\n",
       "      <td>1904.0</td>\n",
       "      <td>0</td>\n",
       "    </tr>\n",
       "    <tr>\n",
       "      <th>7603</th>\n",
       "      <td>7604</td>\n",
       "      <td>2014-03-06 20:34:32</td>\n",
       "      <td>Seiler Marko</td>\n",
       "      <td>MarkoSeiler@yahoo.com</td>\n",
       "      <td>SIGNUP</td>\n",
       "      <td>1.394138e+09</td>\n",
       "      <td>0</td>\n",
       "      <td>0</td>\n",
       "      <td>258</td>\n",
       "      <td>0.0</td>\n",
       "      <td>0</td>\n",
       "    </tr>\n",
       "    <tr>\n",
       "      <th>7628</th>\n",
       "      <td>7629</td>\n",
       "      <td>2012-11-18 11:37:48</td>\n",
       "      <td>Brandt Thomas</td>\n",
       "      <td>ThomasBrandt@gmail.com</td>\n",
       "      <td>PERSONAL_PROJECTS</td>\n",
       "      <td>NaN</td>\n",
       "      <td>0</td>\n",
       "      <td>0</td>\n",
       "      <td>24</td>\n",
       "      <td>0.0</td>\n",
       "      <td>0</td>\n",
       "    </tr>\n",
       "    <tr>\n",
       "      <th>8587</th>\n",
       "      <td>8588</td>\n",
       "      <td>2014-05-30 14:23:08</td>\n",
       "      <td>Karlsen Mimir</td>\n",
       "      <td>MimirMKarlsen@jourrapide.com</td>\n",
       "      <td>SIGNUP</td>\n",
       "      <td>1.401633e+09</td>\n",
       "      <td>1</td>\n",
       "      <td>0</td>\n",
       "      <td>154</td>\n",
       "      <td>0.0</td>\n",
       "      <td>0</td>\n",
       "    </tr>\n",
       "    <tr>\n",
       "      <th>9040</th>\n",
       "      <td>9041</td>\n",
       "      <td>2013-01-03 00:53:47</td>\n",
       "      <td>Bach Amanda</td>\n",
       "      <td>AmandaABach@gmail.com</td>\n",
       "      <td>ORG_INVITE</td>\n",
       "      <td>NaN</td>\n",
       "      <td>0</td>\n",
       "      <td>0</td>\n",
       "      <td>377</td>\n",
       "      <td>6208.0</td>\n",
       "      <td>0</td>\n",
       "    </tr>\n",
       "    <tr>\n",
       "      <th>9654</th>\n",
       "      <td>9655</td>\n",
       "      <td>2012-11-02 11:34:03</td>\n",
       "      <td>Schiffer Tom</td>\n",
       "      <td>TomSchiffer@gmail.com</td>\n",
       "      <td>SIGNUP_GOOGLE_AUTH</td>\n",
       "      <td>1.352374e+09</td>\n",
       "      <td>0</td>\n",
       "      <td>0</td>\n",
       "      <td>258</td>\n",
       "      <td>0.0</td>\n",
       "      <td>0</td>\n",
       "    </tr>\n",
       "    <tr>\n",
       "      <th>10299</th>\n",
       "      <td>10300</td>\n",
       "      <td>2013-10-12 20:05:03</td>\n",
       "      <td>Holm Nicolai</td>\n",
       "      <td>NicolaiSHolm@yahoo.com</td>\n",
       "      <td>ORG_INVITE</td>\n",
       "      <td>1.382040e+09</td>\n",
       "      <td>0</td>\n",
       "      <td>0</td>\n",
       "      <td>64</td>\n",
       "      <td>153.0</td>\n",
       "      <td>0</td>\n",
       "    </tr>\n",
       "    <tr>\n",
       "      <th>11244</th>\n",
       "      <td>11245</td>\n",
       "      <td>2014-01-17 18:05:15</td>\n",
       "      <td>Neudorf Kerstin</td>\n",
       "      <td>KerstinNeudorf@gmail.com</td>\n",
       "      <td>SIGNUP</td>\n",
       "      <td>1.389982e+09</td>\n",
       "      <td>1</td>\n",
       "      <td>1</td>\n",
       "      <td>68</td>\n",
       "      <td>0.0</td>\n",
       "      <td>0</td>\n",
       "    </tr>\n",
       "    <tr>\n",
       "      <th>11798</th>\n",
       "      <td>11799</td>\n",
       "      <td>2013-03-23 21:52:48</td>\n",
       "      <td>Wyatt Paige</td>\n",
       "      <td>PaigeWyatt@gmail.com</td>\n",
       "      <td>GUEST_INVITE</td>\n",
       "      <td>1.364162e+09</td>\n",
       "      <td>0</td>\n",
       "      <td>0</td>\n",
       "      <td>219</td>\n",
       "      <td>3477.0</td>\n",
       "      <td>0</td>\n",
       "    </tr>\n",
       "    <tr>\n",
       "      <th>11905</th>\n",
       "      <td>11906</td>\n",
       "      <td>2014-04-14 21:24:59</td>\n",
       "      <td>Duerr Leonie</td>\n",
       "      <td>LeonieDuerr@gmail.com</td>\n",
       "      <td>ORG_INVITE</td>\n",
       "      <td>1.401917e+09</td>\n",
       "      <td>0</td>\n",
       "      <td>0</td>\n",
       "      <td>200</td>\n",
       "      <td>190.0</td>\n",
       "      <td>0</td>\n",
       "    </tr>\n",
       "  </tbody>\n",
       "</table>\n",
       "</div>"
      ],
      "text/plain": [
       "       object_id        creation_time               name  \\\n",
       "3605        3606  2013-05-10 08:31:59       Sankt Janina   \n",
       "3822        3823  2012-11-22 05:51:29         Lane Alfie   \n",
       "4955        4956  2013-01-28 23:21:34      Mueller Klaus   \n",
       "5016        5017  2013-01-18 02:12:58  Walter Maximilian   \n",
       "5081        5082  2013-06-25 19:31:11          Tye Jacob   \n",
       "6346        6347  2014-04-14 07:58:54     Winther Magnus   \n",
       "6432        6433  2014-05-09 10:31:42     Kappel Kristin   \n",
       "6536        6537  2014-05-09 00:19:37    Bertelsen L�rke   \n",
       "6705        6706  2012-06-27 06:19:12      Gerste Ulrike   \n",
       "7159        7160  2012-11-15 03:13:19     Schr�der Mandy   \n",
       "7257        7258  2013-05-14 20:04:00     N�rgaard Lasse   \n",
       "7603        7604  2014-03-06 20:34:32       Seiler Marko   \n",
       "7628        7629  2012-11-18 11:37:48      Brandt Thomas   \n",
       "8587        8588  2014-05-30 14:23:08      Karlsen Mimir   \n",
       "9040        9041  2013-01-03 00:53:47        Bach Amanda   \n",
       "9654        9655  2012-11-02 11:34:03       Schiffer Tom   \n",
       "10299      10300  2013-10-12 20:05:03       Holm Nicolai   \n",
       "11244      11245  2014-01-17 18:05:15    Neudorf Kerstin   \n",
       "11798      11799  2013-03-23 21:52:48        Wyatt Paige   \n",
       "11905      11906  2014-04-14 21:24:59       Duerr Leonie   \n",
       "\n",
       "                               email     creation_source  \\\n",
       "3605           JaninaSankt@gmail.com        GUEST_INVITE   \n",
       "3822             AlfieLane@yahoo.com          ORG_INVITE   \n",
       "4955          KlausMueller@gustr.com        GUEST_INVITE   \n",
       "5016      MaximilianWalter@gmail.com  SIGNUP_GOOGLE_AUTH   \n",
       "5081              JacobTye@gmail.com  SIGNUP_GOOGLE_AUTH   \n",
       "6346   MagnusSWinther@jourrapide.com              SIGNUP   \n",
       "6432         KristinKappel@yahoo.com              SIGNUP   \n",
       "6536      LaerkeMBertelsen@gmail.com   PERSONAL_PROJECTS   \n",
       "6705          UlrikeGerste@gmail.com  SIGNUP_GOOGLE_AUTH   \n",
       "7159         MandySchroder@gustr.com   PERSONAL_PROJECTS   \n",
       "7257         LasseLNrgaard@gmail.com          ORG_INVITE   \n",
       "7603           MarkoSeiler@yahoo.com              SIGNUP   \n",
       "7628          ThomasBrandt@gmail.com   PERSONAL_PROJECTS   \n",
       "8587    MimirMKarlsen@jourrapide.com              SIGNUP   \n",
       "9040           AmandaABach@gmail.com          ORG_INVITE   \n",
       "9654           TomSchiffer@gmail.com  SIGNUP_GOOGLE_AUTH   \n",
       "10299         NicolaiSHolm@yahoo.com          ORG_INVITE   \n",
       "11244       KerstinNeudorf@gmail.com              SIGNUP   \n",
       "11798           PaigeWyatt@gmail.com        GUEST_INVITE   \n",
       "11905          LeonieDuerr@gmail.com          ORG_INVITE   \n",
       "\n",
       "       last_session_creation_time  opted_in_to_mailing_list  \\\n",
       "3605                 1.369816e+09                         0   \n",
       "3822                 1.353650e+09                         0   \n",
       "4955                 1.359415e+09                         1   \n",
       "5016                 1.358562e+09                         1   \n",
       "5081                 1.372361e+09                         0   \n",
       "6346                 1.397549e+09                         0   \n",
       "6432                 1.399804e+09                         1   \n",
       "6536                          NaN                         1   \n",
       "6705                 1.340778e+09                         0   \n",
       "7159                          NaN                         1   \n",
       "7257                          NaN                         0   \n",
       "7603                 1.394138e+09                         0   \n",
       "7628                          NaN                         0   \n",
       "8587                 1.401633e+09                         1   \n",
       "9040                          NaN                         0   \n",
       "9654                 1.352374e+09                         0   \n",
       "10299                1.382040e+09                         0   \n",
       "11244                1.389982e+09                         1   \n",
       "11798                1.364162e+09                         0   \n",
       "11905                1.401917e+09                         0   \n",
       "\n",
       "       enabled_for_marketing_drip  org_id  invited_by_user_id  adopted_user  \n",
       "3605                            0      84              8356.0             0  \n",
       "3822                            0     169              9498.0             0  \n",
       "4955                            0      19              3225.0             0  \n",
       "5016                            1     402                 0.0             0  \n",
       "5081                            0     298                 0.0             0  \n",
       "6346                            0      51                 0.0             0  \n",
       "6432                            1     202                 0.0             0  \n",
       "6536                            1     127                 0.0             0  \n",
       "6705                            1     333                 0.0             0  \n",
       "7159                            0     127                 0.0             0  \n",
       "7257                            0      35              1904.0             0  \n",
       "7603                            0     258                 0.0             0  \n",
       "7628                            0      24                 0.0             0  \n",
       "8587                            0     154                 0.0             0  \n",
       "9040                            0     377              6208.0             0  \n",
       "9654                            0     258                 0.0             0  \n",
       "10299                           0      64               153.0             0  \n",
       "11244                           1      68                 0.0             0  \n",
       "11798                           0     219              3477.0             0  \n",
       "11905                           0     200               190.0             0  "
      ]
     },
     "execution_count": 21,
     "metadata": {},
     "output_type": "execute_result"
    }
   ],
   "source": [
    "users_df[users_df.email.duplicated()]"
   ]
  },
  {
   "cell_type": "code",
   "execution_count": 22,
   "id": "1708d929",
   "metadata": {},
   "outputs": [
    {
     "data": {
      "text/plain": [
       "0"
      ]
     },
     "execution_count": 22,
     "metadata": {},
     "output_type": "execute_result"
    }
   ],
   "source": [
    "users_df.object_id.duplicated().sum()"
   ]
  },
  {
   "cell_type": "markdown",
   "id": "065b4b8e",
   "metadata": {},
   "source": [
    "We have duplicated names and emails... Names could be real still but emails there shouldn't be multiple accounts with the same email address.\n",
    "\n",
    "At this point I'd like to drop all the questionable data. However we don't have a lot of data to start with and over 1/4th of the data has no logins.\n",
    "\n",
    "Random forest might be able to get something with a the small data set since it will use bagging the data.\n",
    "\n",
    "since the Data is imballenced with the negative class being the majority class and all the created but never logged into accounts are only adding to that we will drop those samples \n",
    "We'll alse drop duplicated emails and the columns that won't help a model."
   ]
  },
  {
   "cell_type": "code",
   "execution_count": 23,
   "id": "b6bc74d6",
   "metadata": {},
   "outputs": [],
   "source": [
    "users_df_small = users_df.drop(users_df.object_id[users_df.last_session_creation_time.isna()].index, axis=0)\n",
    "users_df_small = users_df_small.drop(users_df_small[users_df_small.email.duplicated()].index, axis=0)\n",
    "\n",
    "#columns to drop\n",
    "to_drop = ['object_id', 'name', 'email', 'last_session_creation_time']\n",
    "\n",
    "users_df_small.drop(to_drop, axis=1, inplace=True)\n"
   ]
  },
  {
   "cell_type": "code",
   "execution_count": 24,
   "id": "200ec807",
   "metadata": {},
   "outputs": [
    {
     "name": "stdout",
     "output_type": "stream",
     "text": [
      "<class 'pandas.core.frame.DataFrame'>\n",
      "Int64Index: 8810 entries, 0 to 11999\n",
      "Data columns (total 7 columns):\n",
      " #   Column                      Non-Null Count  Dtype  \n",
      "---  ------                      --------------  -----  \n",
      " 0   creation_time               8810 non-null   object \n",
      " 1   creation_source             8810 non-null   object \n",
      " 2   opted_in_to_mailing_list    8810 non-null   int64  \n",
      " 3   enabled_for_marketing_drip  8810 non-null   int64  \n",
      " 4   org_id                      8810 non-null   int64  \n",
      " 5   invited_by_user_id          8810 non-null   float64\n",
      " 6   adopted_user                8810 non-null   int64  \n",
      "dtypes: float64(1), int64(4), object(2)\n",
      "memory usage: 550.6+ KB\n"
     ]
    }
   ],
   "source": [
    "users_df_small.info()"
   ]
  },
  {
   "cell_type": "code",
   "execution_count": 25,
   "id": "c5273e05",
   "metadata": {
    "scrolled": true
   },
   "outputs": [
    {
     "data": {
      "text/plain": [
       "<AxesSubplot:xlabel='creation_source', ylabel='count'>"
      ]
     },
     "execution_count": 25,
     "metadata": {},
     "output_type": "execute_result"
    },
    {
     "data": {
      "image/png": "[encoded data removed]",
      "text/plain": [
       "<Figure size 432x288 with 1 Axes>"
      ]
     },
     "metadata": {
      "needs_background": "light"
     },
     "output_type": "display_data"
    }
   ],
   "source": [
    "sns.countplot(x= 'creation_source', data= users_df_small, hue= 'adopted_user')"
   ]
  },
  {
   "cell_type": "code",
   "execution_count": 26,
   "id": "78701bf6",
   "metadata": {},
   "outputs": [
    {
     "data": {
      "text/plain": [
       "<AxesSubplot:xlabel='opted_in_to_mailing_list', ylabel='count'>"
      ]
     },
     "execution_count": 26,
     "metadata": {},
     "output_type": "execute_result"
    },
    {
     "data": {
      "image/png": "[encoded data removed]",
      "text/plain": [
       "<Figure size 432x288 with 1 Axes>"
      ]
     },
     "metadata": {
      "needs_background": "light"
     },
     "output_type": "display_data"
    }
   ],
   "source": [
    "sns.countplot(x= 'opted_in_to_mailing_list', data= users_df_small, hue= 'adopted_user')"
   ]
  },
  {
   "cell_type": "code",
   "execution_count": 27,
   "id": "323609c2",
   "metadata": {},
   "outputs": [
    {
     "data": {
      "text/plain": [
       "<AxesSubplot:xlabel='enabled_for_marketing_drip', ylabel='count'>"
      ]
     },
     "execution_count": 27,
     "metadata": {},
     "output_type": "execute_result"
    },
    {
     "data": {
      "image/png": "[encoded data removed]",
      "text/plain": [
       "<Figure size 432x288 with 1 Axes>"
      ]
     },
     "metadata": {
      "needs_background": "light"
     },
     "output_type": "display_data"
    }
   ],
   "source": [
    "sns.countplot(x= 'enabled_for_marketing_drip', data= users_df_small, hue= 'adopted_user')"
   ]
  },
  {
   "cell_type": "code",
   "execution_count": 28,
   "id": "b941b0a9",
   "metadata": {},
   "outputs": [
    {
     "data": {
      "text/plain": [
       "<AxesSubplot:xlabel='org_id', ylabel='count'>"
      ]
     },
     "execution_count": 28,
     "metadata": {},
     "output_type": "execute_result"
    },
    {
     "data": {
      "image/png": "[encoded data removed]",
      "text/plain": [
       "<Figure size 720x576 with 1 Axes>"
      ]
     },
     "metadata": {
      "needs_background": "light"
     },
     "output_type": "display_data"
    }
   ],
   "source": [
    "fig = plt.figure(figsize=(10,8))\n",
    "sns.countplot(x= 'org_id', data= users_df_small, order= users_df_small.org_id.value_counts().iloc[:20].index, hue= 'adopted_user')\n"
   ]
  },
  {
   "cell_type": "code",
   "execution_count": 29,
   "id": "f6f70513",
   "metadata": {},
   "outputs": [
    {
     "data": {
      "text/plain": [
       "<AxesSubplot:xlabel='org_id', ylabel='count'>"
      ]
     },
     "execution_count": 29,
     "metadata": {},
     "output_type": "execute_result"
    },
    {
     "data": {
      "image/png": "[encoded data removed]",
      "text/plain": [
       "<Figure size 720x576 with 1 Axes>"
      ]
     },
     "metadata": {
      "needs_background": "light"
     },
     "output_type": "display_data"
    }
   ],
   "source": [
    "fig = plt.figure(figsize=(10,8))\n",
    "sns.countplot(x= 'org_id', data= users_df_small, hue= 'adopted_user', order= users_df_small.org_id.value_counts().iloc[:20].index)\n"
   ]
  },
  {
   "cell_type": "markdown",
   "id": "fb0d6f06",
   "metadata": {},
   "source": [
    "So far none of the features are very helpful.\n",
    "\n",
    "Lets just see what a Random Forest model finds."
   ]
  },
  {
   "cell_type": "code",
   "execution_count": 30,
   "id": "adadd40a",
   "metadata": {},
   "outputs": [],
   "source": [
    "from sklearn.ensemble import RandomForestClassifier\n",
    "from sklearn.metrics import classification_report\n",
    "from sklearn.model_selection import train_test_split\n",
    "from  sklearn.model_selection import GridSearchCV"
   ]
  },
  {
   "cell_type": "markdown",
   "id": "b5eedf03",
   "metadata": {},
   "source": [
    "The model is making 0 predictions of adopted users. Which is not surprising with the target value so under represented. \n",
    "\n",
    "Lets see if it does any better without the users who never logged in."
   ]
  },
  {
   "cell_type": "code",
   "execution_count": 31,
   "id": "9fc9d3a7",
   "metadata": {},
   "outputs": [],
   "source": [
    "X = users_df_small.drop('adopted_user', axis=1)\n",
    "y = users_df_small['adopted_user']\n",
    "\n",
    "X = pd.get_dummies(X)\n",
    "\n",
    "X_train, X_test, y_train, y_test = train_test_split(X, y, test_size=.30, random_state=68)"
   ]
  },
  {
   "cell_type": "code",
   "execution_count": 32,
   "id": "69b750ff",
   "metadata": {},
   "outputs": [
    {
     "data": {
      "text/plain": [
       "{'max_depth': 3,\n",
       " 'max_features': 'sqrt',\n",
       " 'min_samples_leaf': 1,\n",
       " 'min_samples_split': 2,\n",
       " 'n_estimators': 100}"
      ]
     },
     "execution_count": 32,
     "metadata": {},
     "output_type": "execute_result"
    }
   ],
   "source": [
    "RFC_params = {\n",
    "    'max_features': ['sqrt', 'log2', None],\n",
    "    'n_estimators': [100, 200, 400],\n",
    "    'max_depth': [3, 5, 10, 20],\n",
    "    'min_samples_split': [2, 5, 10, 15],\n",
    "    'min_samples_leaf': [1, 2, 5, 10],\n",
    "}\n",
    "RF = RandomForestClassifier(random_state=68)\n",
    "RFGS = GridSearchCV(RF, RFC_params)\n",
    "RFGS.fit(X_train, y_train)\n",
    "RFGS.best_params_"
   ]
  },
  {
   "cell_type": "code",
   "execution_count": 34,
   "id": "cfec12ad",
   "metadata": {},
   "outputs": [
    {
     "name": "stdout",
     "output_type": "stream",
     "text": [
      "              precision    recall  f1-score   support\n",
      "\n",
      "           0       0.85      1.00      0.92      2235\n",
      "           1       0.00      0.00      0.00       408\n",
      "\n",
      "    accuracy                           0.85      2643\n",
      "   macro avg       0.42      0.50      0.46      2643\n",
      "weighted avg       0.72      0.85      0.77      2643\n",
      "\n"
     ]
    },
    {
     "name": "stderr",
     "output_type": "stream",
     "text": [
      "/opt/anaconda3/lib/python3.8/site-packages/sklearn/metrics/_classification.py:1245: UndefinedMetricWarning: Precision and F-score are ill-defined and being set to 0.0 in labels with no predicted samples. Use `zero_division` parameter to control this behavior.\n",
      "  _warn_prf(average, modifier, msg_start, len(result))\n",
      "/opt/anaconda3/lib/python3.8/site-packages/sklearn/metrics/_classification.py:1245: UndefinedMetricWarning: Precision and F-score are ill-defined and being set to 0.0 in labels with no predicted samples. Use `zero_division` parameter to control this behavior.\n",
      "  _warn_prf(average, modifier, msg_start, len(result))\n",
      "/opt/anaconda3/lib/python3.8/site-packages/sklearn/metrics/_classification.py:1245: UndefinedMetricWarning: Precision and F-score are ill-defined and being set to 0.0 in labels with no predicted samples. Use `zero_division` parameter to control this behavior.\n",
      "  _warn_prf(average, modifier, msg_start, len(result))\n"
     ]
    }
   ],
   "source": [
    "rf = RandomForestClassifier(max_depth= 3,\n",
    "                            min_samples_leaf= 1,\n",
    "                            min_samples_split= 2,\n",
    "                            n_estimators= 100,\n",
    "                            random_state=68,\n",
    "                           max_features='sqrt')\n",
    "rf.fit(X_train, y_train)\n",
    "y_pred = rf.predict(X_test)\n",
    "print(classification_report(y_test, y_pred))"
   ]
  },
  {
   "cell_type": "code",
   "execution_count": null,
   "id": "039bf8cc",
   "metadata": {},
   "outputs": [],
   "source": []
  },
  {
   "cell_type": "markdown",
   "id": "c1cfb005",
   "metadata": {},
   "source": [
    "To make this a viable model we could engineer some features to boost the set for a model.\n",
    "We could aggregate features from the user login data like average monthly logins and total user logins.\n",
    "\n",
    "We could also try to upsample the minority class to fix the imballence of the classes. \n",
    "\n",
    "Some features based on the actual product like number of projects a user has submitted or viewed would be helpful.\n",
    "\n"
   ]
  },
  {
   "cell_type": "code",
   "execution_count": null,
   "id": "81c041ce",
   "metadata": {},
   "outputs": [],
   "source": []
  }
 ],
 "metadata": {
  "kernelspec": {
   "display_name": "Python 3",
   "language": "python",
   "name": "python3"
  },
  "language_info": {
   "codemirror_mode": {
    "name": "ipython",
    "version": 3
   },
   "file_extension": ".py",
   "mimetype": "text/x-python",
   "name": "python",
   "nbconvert_exporter": "python",
   "pygments_lexer": "ipython3",
   "version": "3.8.8"
  }
 },
 "nbformat": 4,
 "nbformat_minor": 5
}
